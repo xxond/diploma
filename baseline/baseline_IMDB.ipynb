{
 "cells": [
  {
   "cell_type": "code",
   "execution_count": 1,
   "metadata": {},
   "outputs": [],
   "source": [
    "import json\n",
    "import re\n",
    "\n",
    "import numpy as np\n",
    "import pandas as pd\n",
    "from matplotlib import pyplot as plt\n",
    "from tqdm import tqdm\n",
    "from textblob import TextBlob\n",
    "from joblib import load\n",
    "\n",
    "from sklearn import metrics\n",
    "from sklearn.model_selection import train_test_split\n",
    "\n",
    "import text_clf"
   ]
  },
  {
   "cell_type": "code",
   "execution_count": 2,
   "metadata": {},
   "outputs": [],
   "source": [
    "with open(\"../dataset/IMDB/IMDB_reviews.json\") as json_file:\n",
    "    data = pd.DataFrame(json.loads('[' + ',\\n'.join(json_file.readlines()) + ']'))"
   ]
  },
  {
   "cell_type": "code",
   "execution_count": 7,
   "metadata": {},
   "outputs": [
    {
     "data": {
      "text/html": [
       "<div>\n",
       "<style scoped>\n",
       "    .dataframe tbody tr th:only-of-type {\n",
       "        vertical-align: middle;\n",
       "    }\n",
       "\n",
       "    .dataframe tbody tr th {\n",
       "        vertical-align: top;\n",
       "    }\n",
       "\n",
       "    .dataframe thead th {\n",
       "        text-align: right;\n",
       "    }\n",
       "</style>\n",
       "<table border=\"1\" class=\"dataframe\">\n",
       "  <thead>\n",
       "    <tr style=\"text-align: right;\">\n",
       "      <th></th>\n",
       "      <th>review_date</th>\n",
       "      <th>movie_id</th>\n",
       "      <th>user_id</th>\n",
       "      <th>is_spoiler</th>\n",
       "      <th>review_text</th>\n",
       "      <th>rating</th>\n",
       "      <th>review_summary</th>\n",
       "    </tr>\n",
       "  </thead>\n",
       "  <tbody>\n",
       "    <tr>\n",
       "      <th>0</th>\n",
       "      <td>10 February 2006</td>\n",
       "      <td>tt0111161</td>\n",
       "      <td>ur1898687</td>\n",
       "      <td>True</td>\n",
       "      <td>In its Oscar year, Shawshank Redemption (writt...</td>\n",
       "      <td>10</td>\n",
       "      <td>A classic piece of unforgettable film-making.</td>\n",
       "    </tr>\n",
       "    <tr>\n",
       "      <th>1</th>\n",
       "      <td>6 September 2000</td>\n",
       "      <td>tt0111161</td>\n",
       "      <td>ur0842118</td>\n",
       "      <td>True</td>\n",
       "      <td>The Shawshank Redemption is without a doubt on...</td>\n",
       "      <td>10</td>\n",
       "      <td>Simply amazing. The best film of the 90's.</td>\n",
       "    </tr>\n",
       "    <tr>\n",
       "      <th>2</th>\n",
       "      <td>3 August 2001</td>\n",
       "      <td>tt0111161</td>\n",
       "      <td>ur1285640</td>\n",
       "      <td>True</td>\n",
       "      <td>I believe that this film is the best story eve...</td>\n",
       "      <td>8</td>\n",
       "      <td>The best story ever told on film</td>\n",
       "    </tr>\n",
       "    <tr>\n",
       "      <th>3</th>\n",
       "      <td>1 September 2002</td>\n",
       "      <td>tt0111161</td>\n",
       "      <td>ur1003471</td>\n",
       "      <td>True</td>\n",
       "      <td>**Yes, there are SPOILERS here**This film has ...</td>\n",
       "      <td>10</td>\n",
       "      <td>Busy dying or busy living?</td>\n",
       "    </tr>\n",
       "    <tr>\n",
       "      <th>4</th>\n",
       "      <td>20 May 2004</td>\n",
       "      <td>tt0111161</td>\n",
       "      <td>ur0226855</td>\n",
       "      <td>True</td>\n",
       "      <td>At the heart of this extraordinary movie is a ...</td>\n",
       "      <td>8</td>\n",
       "      <td>Great story, wondrously told and acted</td>\n",
       "    </tr>\n",
       "    <tr>\n",
       "      <th>...</th>\n",
       "      <td>...</td>\n",
       "      <td>...</td>\n",
       "      <td>...</td>\n",
       "      <td>...</td>\n",
       "      <td>...</td>\n",
       "      <td>...</td>\n",
       "      <td>...</td>\n",
       "    </tr>\n",
       "    <tr>\n",
       "      <th>573908</th>\n",
       "      <td>8 August 1999</td>\n",
       "      <td>tt0139239</td>\n",
       "      <td>ur0100166</td>\n",
       "      <td>False</td>\n",
       "      <td>Go is wise, fast and pure entertainment. Assem...</td>\n",
       "      <td>10</td>\n",
       "      <td>The best teen movie of the nineties</td>\n",
       "    </tr>\n",
       "    <tr>\n",
       "      <th>573909</th>\n",
       "      <td>31 July 1999</td>\n",
       "      <td>tt0139239</td>\n",
       "      <td>ur0021767</td>\n",
       "      <td>False</td>\n",
       "      <td>Well, what shall I say. this one´s fun at any ...</td>\n",
       "      <td>9</td>\n",
       "      <td>Go - see the movie</td>\n",
       "    </tr>\n",
       "    <tr>\n",
       "      <th>573910</th>\n",
       "      <td>20 July 1999</td>\n",
       "      <td>tt0139239</td>\n",
       "      <td>ur0392750</td>\n",
       "      <td>False</td>\n",
       "      <td>Go is the best movie I have ever seen, and I'v...</td>\n",
       "      <td>10</td>\n",
       "      <td>It's the best movie I've ever seen</td>\n",
       "    </tr>\n",
       "    <tr>\n",
       "      <th>573911</th>\n",
       "      <td>11 June 1999</td>\n",
       "      <td>tt0139239</td>\n",
       "      <td>ur0349105</td>\n",
       "      <td>False</td>\n",
       "      <td>Call this 1999 teenage version of Pulp Fiction...</td>\n",
       "      <td>3</td>\n",
       "      <td>Haven't we seen this before?</td>\n",
       "    </tr>\n",
       "    <tr>\n",
       "      <th>573912</th>\n",
       "      <td>3 May 1999</td>\n",
       "      <td>tt0139239</td>\n",
       "      <td>ur0156431</td>\n",
       "      <td>False</td>\n",
       "      <td>Why was this movie made? No doubt to sucker in...</td>\n",
       "      <td>2</td>\n",
       "      <td>Go doesn't go anywhere</td>\n",
       "    </tr>\n",
       "  </tbody>\n",
       "</table>\n",
       "<p>573913 rows × 7 columns</p>\n",
       "</div>"
      ],
      "text/plain": [
       "             review_date   movie_id    user_id  is_spoiler  \\\n",
       "0       10 February 2006  tt0111161  ur1898687        True   \n",
       "1       6 September 2000  tt0111161  ur0842118        True   \n",
       "2          3 August 2001  tt0111161  ur1285640        True   \n",
       "3       1 September 2002  tt0111161  ur1003471        True   \n",
       "4            20 May 2004  tt0111161  ur0226855        True   \n",
       "...                  ...        ...        ...         ...   \n",
       "573908     8 August 1999  tt0139239  ur0100166       False   \n",
       "573909      31 July 1999  tt0139239  ur0021767       False   \n",
       "573910      20 July 1999  tt0139239  ur0392750       False   \n",
       "573911      11 June 1999  tt0139239  ur0349105       False   \n",
       "573912        3 May 1999  tt0139239  ur0156431       False   \n",
       "\n",
       "                                              review_text rating  \\\n",
       "0       In its Oscar year, Shawshank Redemption (writt...     10   \n",
       "1       The Shawshank Redemption is without a doubt on...     10   \n",
       "2       I believe that this film is the best story eve...      8   \n",
       "3       **Yes, there are SPOILERS here**This film has ...     10   \n",
       "4       At the heart of this extraordinary movie is a ...      8   \n",
       "...                                                   ...    ...   \n",
       "573908  Go is wise, fast and pure entertainment. Assem...     10   \n",
       "573909  Well, what shall I say. this one´s fun at any ...      9   \n",
       "573910  Go is the best movie I have ever seen, and I'v...     10   \n",
       "573911  Call this 1999 teenage version of Pulp Fiction...      3   \n",
       "573912  Why was this movie made? No doubt to sucker in...      2   \n",
       "\n",
       "                                       review_summary  \n",
       "0       A classic piece of unforgettable film-making.  \n",
       "1          Simply amazing. The best film of the 90's.  \n",
       "2                    The best story ever told on film  \n",
       "3                          Busy dying or busy living?  \n",
       "4              Great story, wondrously told and acted  \n",
       "...                                               ...  \n",
       "573908            The best teen movie of the nineties  \n",
       "573909                             Go - see the movie  \n",
       "573910             It's the best movie I've ever seen  \n",
       "573911                   Haven't we seen this before?  \n",
       "573912                         Go doesn't go anywhere  \n",
       "\n",
       "[573913 rows x 7 columns]"
      ]
     },
     "execution_count": 7,
     "metadata": {},
     "output_type": "execute_result"
    }
   ],
   "source": [
    "data"
   ]
  },
  {
   "cell_type": "markdown",
   "metadata": {},
   "source": [
    "# Preprocess"
   ]
  },
  {
   "cell_type": "code",
   "execution_count": 9,
   "metadata": {},
   "outputs": [],
   "source": [
    "x = data['review_text'].values\n",
    "y = data['is_spoiler'].values"
   ]
  },
  {
   "cell_type": "code",
   "execution_count": 10,
   "metadata": {},
   "outputs": [],
   "source": [
    "del data"
   ]
  },
  {
   "cell_type": "code",
   "execution_count": 14,
   "metadata": {},
   "outputs": [
    {
     "name": "stderr",
     "output_type": "stream",
     "text": [
      "100%|██████████| 573913/573913 [00:02<00:00, 268345.25it/s]\n"
     ]
    }
   ],
   "source": [
    "for id, i in tqdm(enumerate(x), total=len(x)):\n",
    "    text = re.sub(r'http\\S+', '', i.lower())\n",
    "    # text = str(TextBlob(text).correct())\n",
    "    x[id] = text"
   ]
  },
  {
   "cell_type": "code",
   "execution_count": 15,
   "metadata": {},
   "outputs": [],
   "source": [
    "prep_data = pd.DataFrame([x,y], index=['text', 'target']).T\n",
    "prep_data = prep_data[~(prep_data['text'] == '')]\n",
    "#prep_data = prep_data[prep_data.apply(lambda x: len(x[0]) <= 500, axis=1)]"
   ]
  },
  {
   "cell_type": "code",
   "execution_count": 16,
   "metadata": {},
   "outputs": [],
   "source": [
    "train, test = train_test_split(prep_data, test_size=0.2)"
   ]
  },
  {
   "cell_type": "code",
   "execution_count": 18,
   "metadata": {},
   "outputs": [],
   "source": [
    "train.to_csv('dataset/IMDB_train.csv', index=False)\n",
    "test.to_csv('dataset/IMDB_test.csv', index=False)"
   ]
  },
  {
   "cell_type": "markdown",
   "metadata": {},
   "source": [
    "# TF-IDF baseline"
   ]
  },
  {
   "cell_type": "code",
   "execution_count": 20,
   "metadata": {},
   "outputs": [
    {
     "name": "stdout",
     "output_type": "stream",
     "text": [
      "text-clf-train - INFO - Config:\n",
      "\n",
      "seed: 42\n",
      "path_to_save_folder: models\n",
      "experiment_name: model\n",
      "\n",
      "# data\n",
      "data:\n",
      "  train_data_path: dataset/IMDB_train.csv\n",
      "  test_data_path: dataset/IMDB_test.csv\n",
      "  sep: ','\n",
      "  text_column: text\n",
      "  target_column: target\n",
      "\n",
      "# preprocessing\n",
      "# (included in resulting model pipeline, so preserved for inference)\n",
      "preprocessing:\n",
      "  lemmatization: null  # pymorphy2\n",
      "\n",
      "# tf-idf\n",
      "tf-idf:\n",
      "  lowercase: true\n",
      "  ngram_range: (1, 1)\n",
      "  max_df: 0.5\n",
      "  min_df: 1\n",
      "\n",
      "# logreg\n",
      "logreg:\n",
      "  penalty: l2\n",
      "  C: 1.0\n",
      "  class_weight: balanced\n",
      "  solver: saga\n",
      "  n_jobs: -1\n",
      "\n",
      "# grid-search\n",
      "grid-search:\n",
      "  do_grid_search: false\n",
      "  grid_search_params_path: hyperparams.py\n",
      "text-clf-train - INFO - Loading data...\n",
      "text-clf-train - INFO - Train dataset size: 459130\n",
      "text-clf-train - INFO - Test dataset size: 114783\n",
      "text-clf-train - INFO - Fitting TF-IDF + LogReg model...\n",
      "[Pipeline] ............ (step 1 of 2) Processing tf-idf, total= 1.3min\n",
      "[Pipeline] ............ (step 2 of 2) Processing logreg, total=  28.5s\n",
      "text-clf-train - INFO - Done!\n",
      "text-clf-train - INFO - TF-IDF number of features: 254005\n",
      "text-clf-train - INFO - Calculating metrics...\n",
      "text-clf-train - INFO - Train classification report:\n",
      "\n",
      "              precision    recall  f1-score   support\n",
      "\n",
      "       False       0.89      0.77      0.82    338526\n",
      "        True       0.53      0.73      0.61    120604\n",
      "\n",
      "    accuracy                           0.76    459130\n",
      "   macro avg       0.71      0.75      0.72    459130\n",
      "weighted avg       0.79      0.76      0.77    459130\n",
      "\n",
      "text-clf-train - INFO - Train confusion matrix:\n",
      "\n",
      "        False   True\n",
      "False  260135  78391\n",
      "True    32492  88112\n",
      "\n",
      "text-clf-train - INFO - Test classification report:\n",
      "\n",
      "              precision    recall  f1-score   support\n",
      "\n",
      "       False       0.86      0.75      0.80     84463\n",
      "        True       0.48      0.67      0.56     30320\n",
      "\n",
      "    accuracy                           0.72    114783\n",
      "   macro avg       0.67      0.71      0.68    114783\n",
      "weighted avg       0.76      0.72      0.74    114783\n",
      "\n",
      "text-clf-train - INFO - Test confusion matrix:\n",
      "\n",
      "       False   True\n",
      "False  62925  21538\n",
      "True   10065  20255\n",
      "\n",
      "text-clf-train - INFO - Saving the model...\n",
      "text-clf-train - INFO - Done!\n"
     ]
    }
   ],
   "source": [
    "model, target_names_mapping = text_clf.train(path_to_config='baseline_config_IMDB.yaml')"
   ]
  },
  {
   "cell_type": "markdown",
   "metadata": {},
   "source": [
    "# ROC AUC"
   ]
  },
  {
   "cell_type": "code",
   "execution_count": 21,
   "metadata": {},
   "outputs": [],
   "source": [
    "model = load('models/model_IMDB_trained/model.joblib')"
   ]
  },
  {
   "cell_type": "code",
   "execution_count": 22,
   "metadata": {},
   "outputs": [
    {
     "name": "stdout",
     "output_type": "stream",
     "text": [
      "Pipeline(steps=[('tf-idf', TfidfVectorizer(max_df=0.5)),\n",
      "                ('logreg',\n",
      "                 LogisticRegression(class_weight='balanced', n_jobs=-1,\n",
      "                                    random_state=42, solver='saga'))],\n",
      "         verbose=True)\n"
     ]
    }
   ],
   "source": [
    "print(model)"
   ]
  },
  {
   "cell_type": "code",
   "execution_count": 23,
   "metadata": {},
   "outputs": [],
   "source": [
    "test_set = pd.read_csv('dataset/IMDB_test.csv')\n",
    "x = test_set['text'].astype('U')\n",
    "y = test_set['target'].to_list()"
   ]
  },
  {
   "cell_type": "code",
   "execution_count": 24,
   "metadata": {},
   "outputs": [],
   "source": [
    "x_pred = model.predict_proba(test_set['text'].astype('U'))\n",
    "pred = x_pred[:, 0]"
   ]
  },
  {
   "cell_type": "code",
   "execution_count": 25,
   "metadata": {},
   "outputs": [
    {
     "data": {
      "text/plain": [
       "<sklearn.metrics._plot.roc_curve.RocCurveDisplay at 0x7efd39a4ac70>"
      ]
     },
     "execution_count": 25,
     "metadata": {},
     "output_type": "execute_result"
    },
    {
     "data": {
      "image/png": "[encoded data removed]",
      "text/plain": [
       "<Figure size 432x288 with 1 Axes>"
      ]
     },
     "metadata": {
      "needs_background": "light"
     },
     "output_type": "display_data"
    }
   ],
   "source": [
    "metrics.plot_roc_curve(model, x, y)"
   ]
  },
  {
   "cell_type": "code",
   "execution_count": null,
   "metadata": {},
   "outputs": [],
   "source": []
  }
 ],
 "metadata": {
  "interpreter": {
   "hash": "dd8a5574eb3498354326dd8f7f5637662e328bd61c3c4a6f6aab62d7a89b6797"
  },
  "kernelspec": {
   "display_name": "Python 3.8.10 64-bit ('tf2_gpu': conda)",
   "name": "python3"
  },
  "language_info": {
   "codemirror_mode": {
    "name": "ipython",
    "version": 3
   },
   "file_extension": ".py",
   "mimetype": "text/x-python",
   "name": "python",
   "nbconvert_exporter": "python",
   "pygments_lexer": "ipython3",
   "version": "3.8.12"
  },
  "metadata": {
   "interpreter": {
    "hash": "dd8a5574eb3498354326dd8f7f5637662e328bd61c3c4a6f6aab62d7a89b6797"
   }
  },
  "orig_nbformat": 2
 },
 "nbformat": 4,
 "nbformat_minor": 2
}
