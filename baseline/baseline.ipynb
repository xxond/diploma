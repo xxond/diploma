{
 "cells": [
  {
   "cell_type": "code",
   "execution_count": 1,
   "metadata": {},
   "outputs": [],
   "source": [
    "import json\n",
    "import re\n",
    "\n",
    "import numpy as np\n",
    "import pandas as pd\n",
    "from matplotlib import pyplot as plt\n",
    "from tqdm import tqdm\n",
    "from textblob import TextBlob\n",
    "from joblib import load\n",
    "\n",
    "from sklearn import metrics\n",
    "from sklearn.model_selection import train_test_split\n",
    "\n",
    "import text_clf"
   ]
  },
  {
   "cell_type": "code",
   "execution_count": 2,
   "metadata": {},
   "outputs": [],
   "source": [
    "with open('../dataset/goodreads_reviews_spoiler.json') as json_file:\n",
    "    data = json.loads('[' + ',\\n'.join(json_file.readlines()) + ']')"
   ]
  },
  {
   "cell_type": "markdown",
   "metadata": {},
   "source": [
    "# Preprocess"
   ]
  },
  {
   "cell_type": "code",
   "execution_count": 3,
   "metadata": {},
   "outputs": [],
   "source": [
    "def unpack(sents):\n",
    "    ys = []\n",
    "    xs = []\n",
    "    for y, sent in sents:\n",
    "        ys.append(y)\n",
    "        xs.append(sent)\n",
    "    return ys, xs"
   ]
  },
  {
   "cell_type": "code",
   "execution_count": 4,
   "metadata": {},
   "outputs": [
    {
     "name": "stderr",
     "output_type": "stream",
     "text": [
      "100%|██████████| 1378033/1378033 [00:03<00:00, 405316.66it/s]\n"
     ]
    }
   ],
   "source": [
    "x = []\n",
    "y = []\n",
    "for sample in tqdm(data):\n",
    "    ans, sent = unpack(sample['review_sentences'])\n",
    "    x.extend(sent)\n",
    "    y.extend(ans)"
   ]
  },
  {
   "cell_type": "code",
   "execution_count": 5,
   "metadata": {},
   "outputs": [],
   "source": [
    "del data"
   ]
  },
  {
   "cell_type": "code",
   "execution_count": 6,
   "metadata": {},
   "outputs": [
    {
     "name": "stderr",
     "output_type": "stream",
     "text": [
      "100%|██████████| 17672655/17672655 [00:29<00:00, 601761.71it/s]\n"
     ]
    }
   ],
   "source": [
    "for id, i in tqdm(enumerate(x), total=len(x)):\n",
    "    text = re.sub(r'http\\S+', '', i.lower())\n",
    "    # text = str(TextBlob(text).correct())\n",
    "    x[id] = text"
   ]
  },
  {
   "cell_type": "code",
   "execution_count": 7,
   "metadata": {},
   "outputs": [],
   "source": [
    "prep_data = pd.DataFrame([x,y], index=['text', 'target']).T\n",
    "prep_data = prep_data[~(prep_data['text'] == '')]\n",
    "prep_data = prep_data[prep_data.apply(lambda x: len(x[0]) <= 500, axis=1)]"
   ]
  },
  {
   "cell_type": "code",
   "execution_count": 46,
   "metadata": {},
   "outputs": [
    {
     "data": {
      "text/plain": [
       "6.466948935963219e-05"
      ]
     },
     "execution_count": 46,
     "metadata": {},
     "output_type": "execute_result"
    }
   ],
   "source": [
    "(17659023 - len(prep_data))/17659023"
   ]
  },
  {
   "cell_type": "code",
   "execution_count": 47,
   "metadata": {},
   "outputs": [
    {
     "name": "stderr",
     "output_type": "stream",
     "text": [
      "/tmp/ipykernel_4820/2054751173.py:1: SettingWithCopyWarning: \n",
      "A value is trying to be set on a copy of a slice from a DataFrame.\n",
      "Try using .loc[row_indexer,col_indexer] = value instead\n",
      "\n",
      "See the caveats in the documentation: https://pandas.pydata.org/pandas-docs/stable/user_guide/indexing.html#returning-a-view-versus-a-copy\n",
      "  prep_data['text'] = prep_data['text'].apply(lambda x: np.str_(x))\n"
     ]
    }
   ],
   "source": [
    "prep_data['text'] = prep_data['text'].apply(lambda x: np.str_(x))"
   ]
  },
  {
   "cell_type": "code",
   "execution_count": 48,
   "metadata": {},
   "outputs": [],
   "source": [
    "train, test = train_test_split(prep_data, test_size=0.2)"
   ]
  },
  {
   "cell_type": "code",
   "execution_count": 49,
   "metadata": {},
   "outputs": [],
   "source": [
    "train.to_csv('dataset/train.csv', index=False)\n",
    "test.to_csv('dataset/test.csv', index=False)"
   ]
  },
  {
   "cell_type": "markdown",
   "metadata": {},
   "source": [
    "# TF-IDF baseline"
   ]
  },
  {
   "cell_type": "code",
   "execution_count": 1,
   "metadata": {},
   "outputs": [],
   "source": []
  },
  {
   "cell_type": "code",
   "execution_count": 2,
   "metadata": {},
   "outputs": [
    {
     "name": "stdout",
     "output_type": "stream",
     "text": [
      "text-clf-train - INFO - Config:\n",
      "\n",
      "seed: 42\n",
      "path_to_save_folder: models\n",
      "experiment_name: model\n",
      "\n",
      "# data\n",
      "data:\n",
      "  train_data_path: dataset/train.csv\n",
      "  test_data_path: dataset/test.csv\n",
      "  sep: ','\n",
      "  text_column: text\n",
      "  target_column: target\n",
      "\n",
      "# preprocessing\n",
      "# (included in resulting model pipeline, so preserved for inference)\n",
      "preprocessing:\n",
      "  lemmatization: null  # pymorphy2\n",
      "\n",
      "# tf-idf\n",
      "tf-idf:\n",
      "  lowercase: true\n",
      "  ngram_range: (1, 1)\n",
      "  max_df: 0.5\n",
      "  min_df: 1\n",
      "\n",
      "# logreg\n",
      "logreg:\n",
      "  penalty: l2\n",
      "  C: 1.0\n",
      "  class_weight: balanced\n",
      "  solver: saga\n",
      "  n_jobs: -1\n",
      "\n",
      "# grid-search\n",
      "grid-search:\n",
      "  do_grid_search: false\n",
      "  grid_search_params_path: hyperparams.py\n",
      "text-clf-train - INFO - Loading data...\n",
      "text-clf-train - INFO - Train dataset size: 14126304\n",
      "text-clf-train - INFO - Test dataset size: 3531577\n",
      "text-clf-train - INFO - Fitting TF-IDF + LogReg model...\n",
      "[Pipeline] ............ (step 1 of 2) Processing tf-idf, total= 3.6min\n",
      "[Pipeline] ............ (step 2 of 2) Processing logreg, total=22.6min\n",
      "text-clf-train - INFO - Done!\n",
      "text-clf-train - INFO - TF-IDF number of features: 325682\n",
      "text-clf-train - INFO - Calculating metrics...\n"
     ]
    },
    {
     "name": "stderr",
     "output_type": "stream",
     "text": [
      "/home/xx/anaconda3/envs/diploma/lib/python3.8/site-packages/sklearn/linear_model/_sag.py:352: ConvergenceWarning: The max_iter was reached which means the coef_ did not converge\n",
      "  warnings.warn(\n"
     ]
    },
    {
     "name": "stdout",
     "output_type": "stream",
     "text": [
      "text-clf-train - INFO - Train classification report:\n",
      "\n",
      "              precision    recall  f1-score   support\n",
      "\n",
      "           0       0.98      0.77      0.86  13670521\n",
      "           1       0.07      0.53      0.13    455783\n",
      "\n",
      "    accuracy                           0.76  14126304\n",
      "   macro avg       0.53      0.65      0.49  14126304\n",
      "weighted avg       0.95      0.76      0.84  14126304\n",
      "\n",
      "text-clf-train - INFO - Train confusion matrix:\n",
      "\n",
      "          0        1\n",
      "0  10527985  3142536\n",
      "1    213990   241793\n",
      "\n",
      "text-clf-train - INFO - Test classification report:\n",
      "\n",
      "              precision    recall  f1-score   support\n",
      "\n",
      "           0       0.98      0.77      0.86   3417771\n",
      "           1       0.07      0.50      0.12    113806\n",
      "\n",
      "    accuracy                           0.76   3531577\n",
      "   macro avg       0.52      0.63      0.49   3531577\n",
      "weighted avg       0.95      0.76      0.84   3531577\n",
      "\n",
      "text-clf-train - INFO - Test confusion matrix:\n",
      "\n",
      "         0       1\n",
      "0  2627970  789801\n",
      "1    56895   56911\n",
      "\n",
      "text-clf-train - INFO - Saving the model...\n",
      "text-clf-train - INFO - Done!\n"
     ]
    }
   ],
   "source": [
    "model, target_names_mapping = text_clf.train(path_to_config='baseline_config.yaml')"
   ]
  },
  {
   "cell_type": "markdown",
   "metadata": {},
   "source": [
    "# ROC AUC"
   ]
  },
  {
   "cell_type": "code",
   "execution_count": 4,
   "metadata": {},
   "outputs": [],
   "source": [
    "model = load('models/model_2021-11-21_17-34-20/model.joblib')"
   ]
  },
  {
   "cell_type": "code",
   "execution_count": 5,
   "metadata": {},
   "outputs": [
    {
     "name": "stdout",
     "output_type": "stream",
     "text": [
      "Pipeline(steps=[('tf-idf', TfidfVectorizer()),\n",
      "                ('logreg',\n",
      "                 LogisticRegression(class_weight='balanced', n_jobs=-1,\n",
      "                                    random_state=42, solver='saga'))],\n",
      "         verbose=True)\n"
     ]
    }
   ],
   "source": [
    "print(model)"
   ]
  },
  {
   "cell_type": "code",
   "execution_count": 50,
   "metadata": {},
   "outputs": [],
   "source": [
    "test_set = pd.read_csv('dataset/test.csv')\n",
    "x = test_set['text'].astype('U')\n",
    "y = test_set['target'].to_list()"
   ]
  },
  {
   "cell_type": "code",
   "execution_count": 35,
   "metadata": {},
   "outputs": [],
   "source": [
    "x_pred = model.predict_proba(test_set['text'].astype('U'))\n",
    "pred = x_pred[:, 0]"
   ]
  },
  {
   "cell_type": "code",
   "execution_count": 51,
   "metadata": {},
   "outputs": [
    {
     "name": "stderr",
     "output_type": "stream",
     "text": [
      "/home/xx/anaconda3/envs/diploma/lib/python3.8/site-packages/sklearn/utils/deprecation.py:87: FutureWarning: Function plot_roc_curve is deprecated; Function `plot_roc_curve` is deprecated in 1.0 and will be removed in 1.2. Use one of the class methods: RocCurveDisplay.from_predictions or RocCurveDisplay.from_estimator.\n",
      "  warnings.warn(msg, category=FutureWarning)\n"
     ]
    },
    {
     "data": {
      "text/plain": [
       "<sklearn.metrics._plot.roc_curve.RocCurveDisplay at 0x7efc984bd820>"
      ]
     },
     "execution_count": 51,
     "metadata": {},
     "output_type": "execute_result"
    },
    {
     "data": {
      "image/png": "[encoded data removed]",
      "text/plain": [
       "<Figure size 432x288 with 1 Axes>"
      ]
     },
     "metadata": {
      "needs_background": "light"
     },
     "output_type": "display_data"
    }
   ],
   "source": [
    "metrics.plot_roc_curve(model, x, y) "
   ]
  }
 ],
 "metadata": {
  "interpreter": {
   "hash": "dd8a5574eb3498354326dd8f7f5637662e328bd61c3c4a6f6aab62d7a89b6797"
  },
  "kernelspec": {
   "display_name": "Python 3.8.10 64-bit ('tf2_gpu': conda)",
   "name": "python3"
  },
  "language_info": {
   "codemirror_mode": {
    "name": "ipython",
    "version": 3
   },
   "file_extension": ".py",
   "mimetype": "text/x-python",
   "name": "python",
   "nbconvert_exporter": "python",
   "pygments_lexer": "ipython3",
   "version": "3.8.12"
  },
  "metadata": {
   "interpreter": {
    "hash": "dd8a5574eb3498354326dd8f7f5637662e328bd61c3c4a6f6aab62d7a89b6797"
   }
  },
  "orig_nbformat": 2
 },
 "nbformat": 4,
 "nbformat_minor": 2
}
