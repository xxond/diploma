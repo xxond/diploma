{
 "cells": [
  {
   "cell_type": "code",
   "execution_count": 1,
   "metadata": {},
   "outputs": [],
   "source": [
    "import json\n",
    "import re\n",
    "\n",
    "import numpy as np\n",
    "import pandas as pd\n",
    "from matplotlib import pyplot as plt\n",
    "from tqdm import tqdm\n",
    "from textblob import TextBlob"
   ]
  },
  {
   "cell_type": "code",
   "execution_count": 2,
   "metadata": {},
   "outputs": [],
   "source": [
    "with open('../dataset/goodreads_reviews_spoiler.json') as json_file:\n",
    "    data = json.loads('[' + ',\\n'.join(json_file.readlines()) + ']')"
   ]
  },
  {
   "cell_type": "markdown",
   "metadata": {},
   "source": [
    "# Preprocess"
   ]
  },
  {
   "cell_type": "code",
   "execution_count": 3,
   "metadata": {},
   "outputs": [],
   "source": [
    "def unpack(sents):\n",
    "    ys = []\n",
    "    xs = []\n",
    "    for y, sent in sents:\n",
    "        ys.append(y)\n",
    "        xs.append(sent)\n",
    "    return ys, xs"
   ]
  },
  {
   "cell_type": "code",
   "execution_count": 4,
   "metadata": {},
   "outputs": [
    {
     "name": "stderr",
     "output_type": "stream",
     "text": [
      "100%|██████████| 1378033/1378033 [00:03<00:00, 405316.66it/s]\n"
     ]
    }
   ],
   "source": [
    "x = []\n",
    "y = []\n",
    "for sample in tqdm(data):\n",
    "    ans, sent = unpack(sample['review_sentences'])\n",
    "    x.extend(sent)\n",
    "    y.extend(ans)"
   ]
  },
  {
   "cell_type": "code",
   "execution_count": 5,
   "metadata": {},
   "outputs": [],
   "source": [
    "del data"
   ]
  },
  {
   "cell_type": "code",
   "execution_count": 6,
   "metadata": {},
   "outputs": [
    {
     "name": "stderr",
     "output_type": "stream",
     "text": [
      "100%|██████████| 17672655/17672655 [00:29<00:00, 601761.71it/s]\n"
     ]
    }
   ],
   "source": [
    "for id, i in tqdm(enumerate(x), total=len(x)):\n",
    "    text = re.sub(r'http\\S+', '', i.lower())\n",
    "    # text = str(TextBlob(text).correct())\n",
    "    x[id] = text"
   ]
  },
  {
   "cell_type": "code",
   "execution_count": 7,
   "metadata": {},
   "outputs": [],
   "source": [
    "prep_data = pd.DataFrame([x,y], index=['text', 'target']).T"
   ]
  },
  {
   "cell_type": "code",
   "execution_count": 8,
   "metadata": {},
   "outputs": [],
   "source": [
    "prep_data = prep_data[~(prep_data['text'] == '')]"
   ]
  },
  {
   "cell_type": "code",
   "execution_count": 40,
   "metadata": {},
   "outputs": [],
   "source": [
    "prep_data = prep_data[prep_data.apply(lambda x: len(x[0]) <= 500, axis=1)]"
   ]
  },
  {
   "cell_type": "code",
   "execution_count": 46,
   "metadata": {},
   "outputs": [
    {
     "data": {
      "text/plain": [
       "6.466948935963219e-05"
      ]
     },
     "execution_count": 46,
     "metadata": {},
     "output_type": "execute_result"
    }
   ],
   "source": [
    "(17659023 - len(prep_data))/17659023"
   ]
  },
  {
   "cell_type": "code",
   "execution_count": 47,
   "metadata": {},
   "outputs": [
    {
     "name": "stderr",
     "output_type": "stream",
     "text": [
      "/tmp/ipykernel_4820/2054751173.py:1: SettingWithCopyWarning: \n",
      "A value is trying to be set on a copy of a slice from a DataFrame.\n",
      "Try using .loc[row_indexer,col_indexer] = value instead\n",
      "\n",
      "See the caveats in the documentation: https://pandas.pydata.org/pandas-docs/stable/user_guide/indexing.html#returning-a-view-versus-a-copy\n",
      "  prep_data['text'] = prep_data['text'].apply(lambda x: np.str_(x))\n"
     ]
    }
   ],
   "source": [
    "prep_data['text'] = prep_data['text'].apply(lambda x: np.str_(x))"
   ]
  },
  {
   "cell_type": "code",
   "execution_count": 48,
   "metadata": {},
   "outputs": [],
   "source": [
    "from sklearn.model_selection import train_test_split\n",
    "\n",
    "train, test = train_test_split(prep_data, test_size=0.2)"
   ]
  },
  {
   "cell_type": "code",
   "execution_count": 49,
   "metadata": {},
   "outputs": [],
   "source": [
    "train.to_csv('dataset/train.csv', index=False)\n",
    "test.to_csv('dataset/test.csv', index=False)"
   ]
  },
  {
   "cell_type": "markdown",
   "metadata": {},
   "source": [
    "# TF-IDF baseline"
   ]
  },
  {
   "cell_type": "code",
   "execution_count": 1,
   "metadata": {},
   "outputs": [],
   "source": [
    "import text_clf"
   ]
  },
  {
   "cell_type": "code",
   "execution_count": 2,
   "metadata": {},
   "outputs": [
    {
     "name": "stdout",
     "output_type": "stream",
     "text": [
      "text-clf-train - INFO - Config:\n",
      "\n",
      "seed: 42\n",
      "path_to_save_folder: models\n",
      "experiment_name: model\n",
      "\n",
      "# data\n",
      "data:\n",
      "  train_data_path: dataset/train.csv\n",
      "  test_data_path: dataset/test.csv\n",
      "  sep: ','\n",
      "  text_column: text\n",
      "  target_column: target\n",
      "\n",
      "# preprocessing\n",
      "# (included in resulting model pipeline, so preserved for inference)\n",
      "preprocessing:\n",
      "  lemmatization: null  # pymorphy2\n",
      "\n",
      "# tf-idf\n",
      "tf-idf:\n",
      "  lowercase: true\n",
      "  ngram_range: (1, 1)\n",
      "  max_df: 1.0\n",
      "  min_df: 1\n",
      "\n",
      "# logreg\n",
      "logreg:\n",
      "  penalty: l2\n",
      "  C: 1.0\n",
      "  class_weight: balanced\n",
      "  solver: saga\n",
      "  n_jobs: -1\n",
      "\n",
      "# grid-search\n",
      "grid-search:\n",
      "  do_grid_search: true\n",
      "  grid_search_params_path: hyperparams.py\n",
      "text-clf-train - INFO - Loading data...\n",
      "text-clf-train - INFO - Train dataset size: 14126304\n",
      "text-clf-train - INFO - Test dataset size: 3531577\n",
      "text-clf-train - INFO - Finding best hyper-parameters...\n",
      "Fitting 3 folds for each of 8 candidates, totalling 24 fits\n"
     ]
    }
   ],
   "source": [
    "model, target_names_mapping = text_clf.train(\n",
    "                path_to_config='baseline_config_grid.yaml')"
   ]
  },
  {
   "cell_type": "code",
   "execution_count": null,
   "metadata": {},
   "outputs": [],
   "source": []
  }
 ],
 "metadata": {
  "interpreter": {
   "hash": "dd8a5574eb3498354326dd8f7f5637662e328bd61c3c4a6f6aab62d7a89b6797"
  },
  "kernelspec": {
   "display_name": "Python 3.8.10 64-bit ('tf2_gpu': conda)",
   "name": "python3"
  },
  "language_info": {
   "codemirror_mode": {
    "name": "ipython",
    "version": 3
   },
   "file_extension": ".py",
   "mimetype": "text/x-python",
   "name": "python",
   "nbconvert_exporter": "python",
   "pygments_lexer": "ipython3",
   "version": "3.8.12"
  },
  "metadata": {
   "interpreter": {
    "hash": "dd8a5574eb3498354326dd8f7f5637662e328bd61c3c4a6f6aab62d7a89b6797"
   }
  },
  "orig_nbformat": 2
 },
 "nbformat": 4,
 "nbformat_minor": 2
}
